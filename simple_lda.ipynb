{
 "cells": [
  {
   "cell_type": "code",
   "execution_count": 1,
   "metadata": {},
   "outputs": [
    {
     "name": "stderr",
     "output_type": "stream",
     "text": [
      "[nltk_data] Downloading package stopwords to\n",
      "[nltk_data]     /Users/sem.kolesnikov/nltk_data...\n",
      "[nltk_data]   Package stopwords is already up-to-date!\n",
      "99it [04:20,  4.99s/it]"
     ]
    }
   ],
   "source": [
    "from data_reader import DocxDataReader\n",
    "from pathlib import Path\n",
    "\n",
    "\n",
    "path = Path.cwd() / 'data' / 'docx35.zip'\n",
    "\n",
    "doc_reader = DocxDataReader(path)\n",
    "documents_stream = doc_reader.read_documents()\n",
    "train = [next(documents_stream) for _ in range(100)]"
   ]
  },
  {
   "cell_type": "code",
   "execution_count": 2,
   "metadata": {},
   "outputs": [
    {
     "name": "stderr",
     "output_type": "stream",
     "text": [
      "109it [05:52,  3.76s/it]"
     ]
    }
   ],
   "source": [
    "test = [next(documents_stream) for _ in range(10)]"
   ]
  },
  {
   "cell_type": "code",
   "execution_count": 4,
   "metadata": {},
   "outputs": [],
   "source": [
    "from data_reader import Document\n",
    "\n",
    "import gensim\n",
    "import gensim.corpora as corpora\n",
    "\n",
    "\n",
    "def get_lda_model_from_documents(num_topics: int, documents: list[Document]) -> gensim.models.LdaMulticore:\n",
    "    dictionary = corpora.Dictionary([d.text for d in documents])\n",
    "    dictionary.filter_extremes(no_below=10, no_above=0.5, keep_n=10_000)\n",
    "    corpus = [dictionary.doc2bow(d.text) for d in documents]\n",
    "\n",
    "    return gensim.models.LdaMulticore(corpus=corpus, id2word=dictionary, num_topics=num_topics)"
   ]
  },
  {
   "cell_type": "code",
   "execution_count": 5,
   "metadata": {},
   "outputs": [],
   "source": [
    "num_topics = 5\n",
    "\n",
    "lda_model = get_lda_model_from_documents(num_topics, train)"
   ]
  },
  {
   "cell_type": "code",
   "execution_count": 6,
   "metadata": {},
   "outputs": [
    {
     "data": {
      "text/plain": [
       "[(585, 0.017369289),\n",
       " (397, 0.014650984),\n",
       " (1501, 0.012628881),\n",
       " (671, 0.011559713),\n",
       " (1082, 0.010186679),\n",
       " (86, 0.0095480485),\n",
       " (661, 0.00856851),\n",
       " (1468, 0.00795214),\n",
       " (1350, 0.007477934),\n",
       " (87, 0.0071051456)]"
      ]
     },
     "execution_count": 6,
     "metadata": {},
     "output_type": "execute_result"
    }
   ],
   "source": [
    "lda_model.get_topic_terms(0)"
   ]
  },
  {
   "cell_type": "code",
   "execution_count": null,
   "metadata": {},
   "outputs": [],
   "source": []
  }
 ],
 "metadata": {
  "kernelspec": {
   "display_name": "env",
   "language": "python",
   "name": "python3"
  },
  "language_info": {
   "codemirror_mode": {
    "name": "ipython",
    "version": 3
   },
   "file_extension": ".py",
   "mimetype": "text/x-python",
   "name": "python",
   "nbconvert_exporter": "python",
   "pygments_lexer": "ipython3",
   "version": "3.9.16"
  }
 },
 "nbformat": 4,
 "nbformat_minor": 2
}
