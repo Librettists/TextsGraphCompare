{
 "cells": [
  {
   "cell_type": "code",
   "execution_count": 1,
   "metadata": {},
   "outputs": [
    {
     "name": "stderr",
     "output_type": "stream",
     "text": [
      "[nltk_data] Downloading package stopwords to\n",
      "[nltk_data]     /Users/sem.kolesnikov/nltk_data...\n",
      "[nltk_data]   Package stopwords is already up-to-date!\n",
      "99it [04:01,  4.55s/it]"
     ]
    }
   ],
   "source": [
    "from data_reader import DocxDataReader\n",
    "from pathlib import Path\n",
    "\n",
    "\n",
    "path = Path.cwd() / 'data' / 'docx35.zip'\n",
    "\n",
    "doc_reader = DocxDataReader(path)\n",
    "documents_stream = doc_reader.read_documents()\n",
    "train = [next(documents_stream) for _ in range(100)]"
   ]
  },
  {
   "cell_type": "code",
   "execution_count": 3,
   "metadata": {},
   "outputs": [
    {
     "name": "stderr",
     "output_type": "stream",
     "text": [
      "109it [05:49,  4.11s/it]"
     ]
    }
   ],
   "source": [
    "test = [next(documents_stream) for _ in range(10)]"
   ]
  },
  {
   "cell_type": "code",
   "execution_count": 4,
   "metadata": {},
   "outputs": [],
   "source": [
    "from data_reader import Document\n",
    "\n",
    "import gensim\n",
    "import gensim.corpora as corpora\n",
    "\n",
    "\n",
    "def get_lda_model_from_documents(num_topics: int, documents: list[Document]) -> gensim.models.LdaMulticore:\n",
    "    id2word = corpora.Dictionary([d.text for d in documents])\n",
    "    corpus = [id2word.doc2bow(d.text) for d in documents]\n",
    "\n",
    "    return gensim.models.LdaMulticore(corpus=corpus, id2word=id2word, num_topics=num_topics)"
   ]
  },
  {
   "cell_type": "code",
   "execution_count": 5,
   "metadata": {},
   "outputs": [],
   "source": [
    "num_topics = 5\n",
    "\n",
    "lda_model = get_lda_model_from_documents(num_topics, train)"
   ]
  },
  {
   "attachments": {},
   "cell_type": "markdown",
   "metadata": {},
   "source": [
    "Fun fact: the model has overfitted on numbers. Perhaps we should either mask the numbers with a special token or simply remove rare words from the vocabulary."
   ]
  },
  {
   "cell_type": "code",
   "execution_count": 7,
   "metadata": {},
   "outputs": [
    {
     "data": {
      "text/plain": [
       "[(1246, 0.00926248),\n",
       " (810, 0.009159511),\n",
       " (1775, 0.0084329),\n",
       " (733, 0.00819823),\n",
       " (100, 0.0056838),\n",
       " (1075, 0.0056485217),\n",
       " (4870, 0.005192328),\n",
       " (548, 0.0047718408),\n",
       " (1679, 0.0047277207),\n",
       " (439, 0.004312632)]"
      ]
     },
     "execution_count": 7,
     "metadata": {},
     "output_type": "execute_result"
    }
   ],
   "source": [
    "lda_model.get_topic_terms(0)"
   ]
  }
 ],
 "metadata": {
  "kernelspec": {
   "display_name": "env",
   "language": "python",
   "name": "python3"
  },
  "language_info": {
   "codemirror_mode": {
    "name": "ipython",
    "version": 3
   },
   "file_extension": ".py",
   "mimetype": "text/x-python",
   "name": "python",
   "nbconvert_exporter": "python",
   "pygments_lexer": "ipython3",
   "version": "3.9.16"
  }
 },
 "nbformat": 4,
 "nbformat_minor": 2
}
