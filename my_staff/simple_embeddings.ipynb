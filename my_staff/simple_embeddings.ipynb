{
 "cells": [
  {
   "cell_type": "code",
   "execution_count": 10,
   "metadata": {},
   "outputs": [],
   "source": [
    "import os\n",
    "import zipfile\n",
    "import re\n",
    "import numpy as np\n",
    "import pandas as pd\n",
    "import string\n",
    "\n",
    "path = os.path.join(os.getcwd(), 'data', 'archive.zip')\n",
    "archive = zipfile.ZipFile(path, 'r')\n",
    "for name in archive.namelist():\n",
    "    if re.fullmatch(r'data.*elibrary_.*\\.txt', name) == None:\n",
    "        continue\n",
    "    category = re.search(r\"(?<=/\\d ).*(?=/)\", name)\n",
    "    if category == None:\n",
    "        category = re.search(r\"(?<=/\\d\\d ).*(?=/)\", name).group()\n",
    "    else:\n",
    "        category = category.group()\n",
    "    doc_id = re.search(r\"(?<=elibrary_).*(?=.txt)\", name).group()\n",
    "    doc_data = []\n",
    "    with archive.open(name) as file:\n",
    "        lines = file.readlines()\n",
    "        lines = [l.decode(\"utf-8\").strip() for l in lines]\n",
    "        lines = [[w.replace('[^\\w\\s]','') for w in l.split()] for l in lines if len(l) > 1]\n",
    "        for line_idx, line in enumerate(lines):\n",
    "            for token_idx, token in enumerate(line):\n",
    "                if len(token) == 0:\n",
    "                    continue\n",
    "                doc_data.append([token, token_idx, line_idx, doc_id, category])\n",
    "    data = pd.DataFrame(doc_data, columns =['token', 'doc_token_id', 'doc_line_id', 'doc_id', 'category'])\n"
   ]
  },
  {
   "cell_type": "code",
   "execution_count": 14,
   "metadata": {},
   "outputs": [
    {
     "data": {
      "text/plain": [
       "'/'"
      ]
     },
     "execution_count": 14,
     "metadata": {},
     "output_type": "execute_result"
    }
   ],
   "source": [
    "doc_data[1][0]"
   ]
  },
  {
   "cell_type": "code",
   "execution_count": 8,
   "metadata": {},
   "outputs": [
    {
     "data": {
      "text/plain": [
       "0             ﻿/\n",
       "1              /\n",
       "2       ORIGINAL\n",
       "3         PAPERS\n",
       "4              /\n",
       "          ...   \n",
       "4196           .\n",
       "4197           .\n",
       "4198         16.\n",
       "4199          1,\n",
       "4200        2020\n",
       "Name: a, Length: 4201, dtype: object"
      ]
     },
     "execution_count": 8,
     "metadata": {},
     "output_type": "execute_result"
    }
   ],
   "source": [
    "\n",
    "\n",
    "data['a'].str.replace('[{}]'.format(string.punctuation), '')"
   ]
  },
  {
   "cell_type": "code",
   "execution_count": null,
   "metadata": {},
   "outputs": [],
   "source": []
  }
 ],
 "metadata": {
  "kernelspec": {
   "display_name": "env",
   "language": "python",
   "name": "python3"
  },
  "language_info": {
   "codemirror_mode": {
    "name": "ipython",
    "version": 3
   },
   "file_extension": ".py",
   "mimetype": "text/x-python",
   "name": "python",
   "nbconvert_exporter": "python",
   "pygments_lexer": "ipython3",
   "version": "3.9.7"
  }
 },
 "nbformat": 4,
 "nbformat_minor": 2
}
