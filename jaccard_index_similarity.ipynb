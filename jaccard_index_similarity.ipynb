{
 "cells": [
  {
   "cell_type": "code",
   "execution_count": 1,
   "metadata": {},
   "outputs": [],
   "source": [
    "import json\n",
    "import numpy as np\n",
    "from pathlib import Path\n",
    "\n",
    "from data_reader import JsonDocReader, Document"
   ]
  },
  {
   "cell_type": "code",
   "execution_count": 9,
   "metadata": {},
   "outputs": [
    {
     "name": "stderr",
     "output_type": "stream",
     "text": [
      "[nltk_data] Downloading package stopwords to\n",
      "[nltk_data]     /Users/sem.kolesnikov/nltk_data...\n",
      "[nltk_data]   Package stopwords is already up-to-date!\n",
      "1236it [13:46,  1.50it/s]\n"
     ]
    }
   ],
   "source": [
    "data_reader = JsonDocReader(Path('data/docs.json')).read_documents()\n",
    "docs = list(data_reader)"
   ]
  },
  {
   "cell_type": "code",
   "execution_count": 20,
   "metadata": {},
   "outputs": [
    {
     "name": "stderr",
     "output_type": "stream",
     "text": [
      "1236it [09:57,  2.07it/s]\n"
     ]
    }
   ],
   "source": [
    "import tqdm\n",
    "import networkx as nx\n",
    "\n",
    "\n",
    "sim_matrix = np.zeros((len(docs), len(docs)))\n",
    "\n",
    "\n",
    "def jaccard_sim(first_doc, second_doc) -> float:\n",
    "    first_doc_words = set(first_doc.tokens)\n",
    "    second_doc_words = set(second_doc.tokens)\n",
    "\n",
    "    return len(first_doc_words & second_doc_words) / len(first_doc_words | second_doc_words)\n",
    "\n",
    "\n",
    "graph = nx.Graph()\n",
    "for first_ix, first_doc in tqdm.tqdm(enumerate(docs)):\n",
    "    for second_ix, second_doc in enumerate(docs[first_ix + 1:]):\n",
    "        sim = jaccard_sim(first_doc, second_doc)\n",
    "        sim_matrix[first_ix, second_ix] = sim\n",
    "        sim_matrix[second_ix, first_ix] = sim\n",
    "        graph.add_edge(first_doc.name, second_doc.name, weight=sim)"
   ]
  }
 ],
 "metadata": {
  "kernelspec": {
   "display_name": ".venv",
   "language": "python",
   "name": "python3"
  },
  "language_info": {
   "codemirror_mode": {
    "name": "ipython",
    "version": 3
   },
   "file_extension": ".py",
   "mimetype": "text/x-python",
   "name": "python",
   "nbconvert_exporter": "python",
   "pygments_lexer": "ipython3",
   "version": "3.9.16"
  },
  "orig_nbformat": 4
 },
 "nbformat": 4,
 "nbformat_minor": 2
}
