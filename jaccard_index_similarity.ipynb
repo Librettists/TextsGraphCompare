{
 "cells": [
  {
   "cell_type": "code",
   "execution_count": 5,
   "metadata": {},
   "outputs": [],
   "source": [
    "import json\n",
    "import numpy as np\n",
    "from pathlib import Path\n",
    "from collections import Counter\n",
    "import tqdm\n",
    "import networkx as nx\n",
    "from pprint import pprint\n",
    "\n",
    "from data_reader import JsonDocReader, Document\n",
    "from wordcloud import WordCloud\n",
    "import matplotlib.pyplot as plt \n",
    "from joblib import Parallel, delayed\n",
    "import octis\n",
    "import common\n",
    "from functools import partial"
   ]
  },
  {
   "cell_type": "code",
   "execution_count": 4,
   "metadata": {},
   "outputs": [
    {
     "name": "stderr",
     "output_type": "stream",
     "text": [
      "[nltk_data] Downloading package stopwords to\n",
      "[nltk_data]     /Users/sem.kolesnikov/nltk_data...\n",
      "[nltk_data]   Package stopwords is already up-to-date!\n",
      "100%|██████████| 10/10 [00:00<00:00, 2534.17it/s]\n"
     ]
    }
   ],
   "source": [
    "data_reader = JsonDocReader(Path('data/docs.json')).read_documents()\n",
    "docs = list(data_reader)\n",
    "filtered_docs = common.filter_common_words(docs, min_freq=0, max_freq=0.65)"
   ]
  },
  {
   "cell_type": "code",
   "execution_count": 3,
   "metadata": {},
   "outputs": [
    {
     "name": "stderr",
     "output_type": "stream",
     "text": [
      "100%|██████████| 1236/1236 [00:02<00:00, 430.21it/s]\n"
     ]
    }
   ],
   "source": [
    "with open('data/preprocessed_docs.json') as f:\n",
    "    docs = json.load(f)\n",
    "    docs = [Document(k, v.split()) for k, v in docs.items()]\n",
    "filtered_docs = common.filter_common_words(docs, min_freq=0.1, max_freq=0.65)\n",
    "doc_name_to_doc = {doc.name: doc for doc in docs}\n",
    "filtered_docs.remove(Document('gost_r_54481-2011.txt', []))"
   ]
  },
  {
   "cell_type": "code",
   "execution_count": 30,
   "metadata": {},
   "outputs": [
    {
     "name": "stderr",
     "output_type": "stream",
     "text": [
      "1235it [01:22, 15.00it/s] \n"
     ]
    },
    {
     "data": {
      "text/plain": [
       "22"
      ]
     },
     "execution_count": 30,
     "metadata": {},
     "output_type": "execute_result"
    }
   ],
   "source": [
    "graph = common.get_graph(filtered_docs, 0.85, partial(common.jaccard_sim, _words_cache={}))\n",
    "doc_name_to_doc = {doc.name: doc for doc in docs}\n",
    "\n",
    "components = list(nx.connected_components(graph))\n",
    "len(components)"
   ]
  },
  {
   "cell_type": "code",
   "execution_count": 18,
   "metadata": {},
   "outputs": [],
   "source": [
    "import scoring\n",
    "from importlib import reload\n",
    "scoring = reload(scoring)"
   ]
  },
  {
   "cell_type": "code",
   "execution_count": 67,
   "metadata": {},
   "outputs": [
    {
     "name": "stderr",
     "output_type": "stream",
     "text": [
      "22it [00:00, 504.81it/s]\n"
     ]
    }
   ],
   "source": [
    "components_docs = [\n",
    "    Document(k, sum((doc_name_to_doc[doc_name].tokens for doc_name in docs_names), []))\n",
    "    for k, docs_names in enumerate(components)\n",
    "]\n",
    "component_to_topics = scoring.get_topics_ctfidf(components_docs, reduce_frequent_words=True, bm25_weighting=False, top_k=10, min_df=0.1, max_df=0.85)\n",
    "components_topics = [v for k, v in component_to_topics.items()]"
   ]
  },
  {
   "cell_type": "code",
   "execution_count": 69,
   "metadata": {},
   "outputs": [
    {
     "data": {
      "text/plain": [
       "['заявление',\n",
       " 'регистрация',\n",
       " 'выдача',\n",
       " 'орган',\n",
       " 'агентство',\n",
       " 'заявитель',\n",
       " 'единица',\n",
       " 'реестр',\n",
       " 'обязанность',\n",
       " 'присвоение']"
      ]
     },
     "execution_count": 69,
     "metadata": {},
     "output_type": "execute_result"
    }
   ],
   "source": [
    "component_to_topics[0]"
   ]
  },
  {
   "cell_type": "code",
   "execution_count": 13,
   "metadata": {},
   "outputs": [],
   "source": [
    "from octis.evaluation_metrics.coherence_metrics import Coherence\n",
    "from octis.evaluation_metrics.coherence_metrics import WECoherencePairwise\n",
    "\n",
    "pairwise = WECoherencePairwise('cc.ru.300.vec.gz', binary=False, topk=10)"
   ]
  },
  {
   "cell_type": "code",
   "execution_count": 68,
   "metadata": {},
   "outputs": [
    {
     "data": {
      "text/plain": [
       "0.034275747549654255"
      ]
     },
     "execution_count": 68,
     "metadata": {},
     "output_type": "execute_result"
    }
   ],
   "source": [
    "pairwise.score({'topics': components_topics})"
   ]
  }
 ],
 "metadata": {
  "kernelspec": {
   "display_name": ".venv",
   "language": "python",
   "name": "python3"
  },
  "language_info": {
   "codemirror_mode": {
    "name": "ipython",
    "version": 3
   },
   "file_extension": ".py",
   "mimetype": "text/x-python",
   "name": "python",
   "nbconvert_exporter": "python",
   "pygments_lexer": "ipython3",
   "version": "3.9.16"
  },
  "orig_nbformat": 4
 },
 "nbformat": 4,
 "nbformat_minor": 2
}
